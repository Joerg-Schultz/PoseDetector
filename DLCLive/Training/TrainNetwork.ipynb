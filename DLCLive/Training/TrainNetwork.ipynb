{
 "cells": [
  {
   "cell_type": "code",
   "execution_count": 14,
   "metadata": {
    "collapsed": true
   },
   "outputs": [],
   "source": [
    "import numpy as np\n",
    "import pandas as pd\n",
    "import tensorflow as tf\n",
    "from tensorflow.keras.models import Sequential\n",
    "from tensorflow.keras.layers import Dense, Dropout\n",
    "from tensorflow.keras import Input\n",
    "from keras.utils import to_categorical\n",
    "import mlflow.keras\n",
    "import yaml"
   ]
  },
  {
   "cell_type": "code",
   "execution_count": 5,
   "outputs": [],
   "source": [
    "mlflow.tensorflow.autolog()\n",
    "annotation_file = \"annotations.yaml\"\n",
    "with open(annotation_file, 'r') as file:\n",
    "    annotations = yaml.safe_load(file)\n",
    "data_version = annotations[\"data_version\"]\n",
    "mlflow.log_param(\"data_version\", data_version)\n",
    "mlflow.log_artifact(annotation_file)"
   ],
   "metadata": {
    "collapsed": false
   }
  },
  {
   "cell_type": "code",
   "execution_count": 6,
   "outputs": [],
   "source": [
    "# split train and validation in Training\n",
    "trainDataFile = \"train.data\"\n",
    "trainingData = pd.read_csv(trainDataFile, sep=\"\\t\", header=0)\n",
    "train_features = trainingData.copy()\n",
    "train_labels = train_features.pop(train_features.columns[0]) # the first column\n",
    "train_features = np.array(train_features)\n",
    "train_values, ids, train_labels_indexed = np.unique(train_labels, return_index=True, return_inverse=True)\n",
    "\n",
    "train_labels_encoded = to_categorical(train_labels_indexed)"
   ],
   "metadata": {
    "collapsed": false
   }
  },
  {
   "cell_type": "code",
   "execution_count": 7,
   "outputs": [
    {
     "name": "stdout",
     "output_type": "stream",
     "text": [
      "Model: \"sequential\"\n",
      "_________________________________________________________________\n",
      " Layer (type)                Output Shape              Param #   \n",
      "=================================================================\n",
      " dense (Dense)               (None, 128)               2432      \n",
      "                                                                 \n",
      " dropout (Dropout)           (None, 128)               0         \n",
      "                                                                 \n",
      " dense_1 (Dense)             (None, 128)               16512     \n",
      "                                                                 \n",
      " dropout_1 (Dropout)         (None, 128)               0         \n",
      "                                                                 \n",
      " dense_2 (Dense)             (None, 4)                 516       \n",
      "                                                                 \n",
      "=================================================================\n",
      "Total params: 19,460\n",
      "Trainable params: 19,460\n",
      "Non-trainable params: 0\n",
      "_________________________________________________________________\n"
     ]
    },
    {
     "name": "stderr",
     "output_type": "stream",
     "text": [
      "2023-03-12 06:24:09.876681: I tensorflow/compiler/xla/stream_executor/cuda/cuda_gpu_executor.cc:981] successful NUMA node read from SysFS had negative value (-1), but there must be at least one NUMA node, so returning NUMA node zero\n",
      "2023-03-12 06:24:09.876825: I tensorflow/compiler/xla/stream_executor/cuda/cuda_gpu_executor.cc:981] successful NUMA node read from SysFS had negative value (-1), but there must be at least one NUMA node, so returning NUMA node zero\n",
      "2023-03-12 06:24:09.888778: W tensorflow/compiler/xla/stream_executor/platform/default/dso_loader.cc:64] Could not load dynamic library 'libcudnn.so.8'; dlerror: libcudnn.so.8: cannot open shared object file: No such file or directory\n",
      "2023-03-12 06:24:09.888798: W tensorflow/core/common_runtime/gpu/gpu_device.cc:1934] Cannot dlopen some GPU libraries. Please make sure the missing libraries mentioned above are installed properly if you would like to use GPU. Follow the guide at https://www.tensorflow.org/install/gpu for how to download and setup the required libraries for your platform.\n",
      "Skipping registering GPU devices...\n",
      "2023-03-12 06:24:09.889191: I tensorflow/core/platform/cpu_feature_guard.cc:193] This TensorFlow binary is optimized with oneAPI Deep Neural Network Library (oneDNN) to use the following CPU instructions in performance-critical operations:  AVX2 AVX512F AVX512_VNNI AVX512_BF16 FMA\n",
      "To enable them in other operations, rebuild TensorFlow with the appropriate compiler flags.\n"
     ]
    }
   ],
   "source": [
    "model = Sequential([\n",
    "    Input(shape=len(train_features[0])),\n",
    "    Dense(128, activation='relu'),\n",
    "    Dropout(0.2),\n",
    "    Dense(128, activation='relu'),\n",
    "    Dropout(0.2),\n",
    "    Dense(4, activation='softmax')\n",
    "])\n",
    "model.compile(optimizer='adam', loss=tf.keras.losses.categorical_crossentropy,\n",
    "              metrics=['accuracy'])\n",
    "model.summary()"
   ],
   "metadata": {
    "collapsed": false
   }
  },
  {
   "cell_type": "code",
   "execution_count": 8,
   "outputs": [
    {
     "name": "stdout",
     "output_type": "stream",
     "text": [
      "Epoch 1/100\n",
      " 1/50 [..............................] - ETA: 13s - loss: 41.8502 - accuracy: 0.4375WARNING:tensorflow:Callback method `on_train_batch_end` is slow compared to the batch time (batch time: 0.0008s vs `on_train_batch_end` time: 0.0012s). Check your callbacks.\n",
      "50/50 [==============================] - 0s 2ms/step - loss: 18.9892 - accuracy: 0.3682 - val_loss: 3.8924 - val_accuracy: 0.4625\n",
      "Epoch 2/100\n",
      "50/50 [==============================] - 0s 913us/step - loss: 5.7932 - accuracy: 0.4715 - val_loss: 1.2931 - val_accuracy: 0.6625\n",
      "Epoch 3/100\n",
      "50/50 [==============================] - 0s 835us/step - loss: 2.7909 - accuracy: 0.5429 - val_loss: 0.7081 - val_accuracy: 0.7400\n",
      "Epoch 4/100\n",
      "50/50 [==============================] - 0s 838us/step - loss: 1.8179 - accuracy: 0.5473 - val_loss: 0.6511 - val_accuracy: 0.7575\n",
      "Epoch 5/100\n",
      "50/50 [==============================] - 0s 738us/step - loss: 1.3338 - accuracy: 0.6043 - val_loss: 0.6149 - val_accuracy: 0.7375\n",
      "Epoch 6/100\n",
      "50/50 [==============================] - 0s 691us/step - loss: 1.0584 - accuracy: 0.6381 - val_loss: 0.4974 - val_accuracy: 0.8325\n",
      "Epoch 7/100\n",
      "50/50 [==============================] - 0s 748us/step - loss: 0.8441 - accuracy: 0.6963 - val_loss: 0.4378 - val_accuracy: 0.8225\n",
      "Epoch 8/100\n",
      "50/50 [==============================] - 0s 785us/step - loss: 0.8149 - accuracy: 0.7044 - val_loss: 0.4642 - val_accuracy: 0.8075\n",
      "Epoch 9/100\n",
      "50/50 [==============================] - 0s 781us/step - loss: 0.6889 - accuracy: 0.7295 - val_loss: 0.4291 - val_accuracy: 0.8475\n",
      "Epoch 10/100\n",
      "50/50 [==============================] - 0s 838us/step - loss: 0.6333 - accuracy: 0.7408 - val_loss: 0.3894 - val_accuracy: 0.8575\n",
      "Epoch 11/100\n",
      "50/50 [==============================] - 0s 749us/step - loss: 0.6011 - accuracy: 0.7702 - val_loss: 0.4364 - val_accuracy: 0.8750\n",
      "Epoch 12/100\n",
      "50/50 [==============================] - 0s 653us/step - loss: 0.5675 - accuracy: 0.7796 - val_loss: 0.3901 - val_accuracy: 0.8475\n",
      "Epoch 13/100\n",
      "50/50 [==============================] - 0s 675us/step - loss: 0.5220 - accuracy: 0.7808 - val_loss: 0.3531 - val_accuracy: 0.9000\n",
      "Epoch 14/100\n",
      "50/50 [==============================] - 0s 694us/step - loss: 0.4934 - accuracy: 0.8078 - val_loss: 0.3302 - val_accuracy: 0.9025\n",
      "Epoch 15/100\n",
      "50/50 [==============================] - 0s 789us/step - loss: 0.5125 - accuracy: 0.8015 - val_loss: 0.3484 - val_accuracy: 0.8925\n",
      "Epoch 16/100\n",
      "50/50 [==============================] - 0s 795us/step - loss: 0.4917 - accuracy: 0.8065 - val_loss: 0.3185 - val_accuracy: 0.9000\n",
      "Epoch 17/100\n",
      "50/50 [==============================] - 0s 746us/step - loss: 0.4439 - accuracy: 0.8190 - val_loss: 0.2980 - val_accuracy: 0.9125\n",
      "Epoch 18/100\n",
      "50/50 [==============================] - 0s 783us/step - loss: 0.4444 - accuracy: 0.8240 - val_loss: 0.2968 - val_accuracy: 0.9200\n",
      "Epoch 19/100\n",
      "50/50 [==============================] - 0s 748us/step - loss: 0.3670 - accuracy: 0.8585 - val_loss: 0.2699 - val_accuracy: 0.9125\n",
      "Epoch 20/100\n",
      "50/50 [==============================] - 0s 767us/step - loss: 0.3557 - accuracy: 0.8497 - val_loss: 0.2648 - val_accuracy: 0.9425\n",
      "Epoch 21/100\n",
      "50/50 [==============================] - 0s 756us/step - loss: 0.4105 - accuracy: 0.8384 - val_loss: 0.2914 - val_accuracy: 0.9250\n",
      "Epoch 22/100\n",
      "50/50 [==============================] - 0s 777us/step - loss: 0.3745 - accuracy: 0.8579 - val_loss: 0.2657 - val_accuracy: 0.9150\n",
      "Epoch 23/100\n",
      "50/50 [==============================] - 0s 782us/step - loss: 0.3821 - accuracy: 0.8528 - val_loss: 0.2631 - val_accuracy: 0.9375\n",
      "Epoch 24/100\n",
      "50/50 [==============================] - 0s 711us/step - loss: 0.3732 - accuracy: 0.8528 - val_loss: 0.2333 - val_accuracy: 0.9325\n",
      "Epoch 25/100\n",
      "50/50 [==============================] - 0s 741us/step - loss: 0.3890 - accuracy: 0.8391 - val_loss: 0.2396 - val_accuracy: 0.9550\n",
      "Epoch 26/100\n",
      "50/50 [==============================] - 0s 840us/step - loss: 0.3289 - accuracy: 0.8785 - val_loss: 0.2156 - val_accuracy: 0.9525\n",
      "Epoch 27/100\n",
      "50/50 [==============================] - 0s 906us/step - loss: 0.3486 - accuracy: 0.8698 - val_loss: 0.2274 - val_accuracy: 0.9400\n",
      "Epoch 28/100\n",
      "50/50 [==============================] - 0s 755us/step - loss: 0.3274 - accuracy: 0.8729 - val_loss: 0.2436 - val_accuracy: 0.9450\n",
      "Epoch 29/100\n",
      "50/50 [==============================] - 0s 861us/step - loss: 0.3073 - accuracy: 0.8773 - val_loss: 0.2178 - val_accuracy: 0.9550\n",
      "Epoch 30/100\n",
      "50/50 [==============================] - 0s 899us/step - loss: 0.3195 - accuracy: 0.8810 - val_loss: 0.1973 - val_accuracy: 0.9725\n",
      "Epoch 31/100\n",
      "50/50 [==============================] - 0s 920us/step - loss: 0.2576 - accuracy: 0.9029 - val_loss: 0.1992 - val_accuracy: 0.9325\n",
      "Epoch 32/100\n",
      "50/50 [==============================] - 0s 833us/step - loss: 0.3077 - accuracy: 0.8848 - val_loss: 0.1933 - val_accuracy: 0.9500\n",
      "Epoch 33/100\n",
      "50/50 [==============================] - 0s 891us/step - loss: 0.2833 - accuracy: 0.8854 - val_loss: 0.2091 - val_accuracy: 0.9500\n",
      "Epoch 34/100\n",
      "50/50 [==============================] - 0s 830us/step - loss: 0.2810 - accuracy: 0.8936 - val_loss: 0.1931 - val_accuracy: 0.9475\n",
      "Epoch 35/100\n",
      "50/50 [==============================] - 0s 854us/step - loss: 0.2865 - accuracy: 0.8873 - val_loss: 0.1957 - val_accuracy: 0.9600\n",
      "Epoch 36/100\n",
      "50/50 [==============================] - 0s 753us/step - loss: 0.2445 - accuracy: 0.9061 - val_loss: 0.1833 - val_accuracy: 0.9425\n",
      "Epoch 37/100\n",
      "50/50 [==============================] - 0s 752us/step - loss: 0.2638 - accuracy: 0.8979 - val_loss: 0.1748 - val_accuracy: 0.9775\n",
      "Epoch 38/100\n",
      "50/50 [==============================] - 0s 812us/step - loss: 0.2594 - accuracy: 0.8998 - val_loss: 0.1641 - val_accuracy: 0.9700\n",
      "Epoch 39/100\n",
      "50/50 [==============================] - 0s 888us/step - loss: 0.2409 - accuracy: 0.9011 - val_loss: 0.1847 - val_accuracy: 0.9425\n",
      "Epoch 40/100\n",
      "50/50 [==============================] - 0s 848us/step - loss: 0.2753 - accuracy: 0.8954 - val_loss: 0.1987 - val_accuracy: 0.9475\n",
      "Epoch 41/100\n",
      "50/50 [==============================] - 0s 805us/step - loss: 0.2312 - accuracy: 0.9017 - val_loss: 0.1975 - val_accuracy: 0.9375\n",
      "Epoch 42/100\n",
      "50/50 [==============================] - 0s 939us/step - loss: 0.2586 - accuracy: 0.9042 - val_loss: 0.1638 - val_accuracy: 0.9750\n",
      "Epoch 43/100\n",
      "50/50 [==============================] - 0s 969us/step - loss: 0.2197 - accuracy: 0.9130 - val_loss: 0.1933 - val_accuracy: 0.9425\n",
      "Epoch 44/100\n",
      "50/50 [==============================] - 0s 785us/step - loss: 0.2435 - accuracy: 0.9117 - val_loss: 0.1603 - val_accuracy: 0.9675\n",
      "Epoch 45/100\n",
      "50/50 [==============================] - 0s 802us/step - loss: 0.2411 - accuracy: 0.9130 - val_loss: 0.1824 - val_accuracy: 0.9575\n",
      "Epoch 46/100\n",
      "50/50 [==============================] - 0s 855us/step - loss: 0.2358 - accuracy: 0.9111 - val_loss: 0.1693 - val_accuracy: 0.9550\n",
      "Epoch 47/100\n",
      "50/50 [==============================] - 0s 747us/step - loss: 0.2509 - accuracy: 0.8967 - val_loss: 0.1683 - val_accuracy: 0.9375\n",
      "Epoch 48/100\n",
      "50/50 [==============================] - 0s 708us/step - loss: 0.2202 - accuracy: 0.9198 - val_loss: 0.2075 - val_accuracy: 0.9300\n",
      "Epoch 49/100\n",
      "50/50 [==============================] - 0s 709us/step - loss: 0.2459 - accuracy: 0.9092 - val_loss: 0.1858 - val_accuracy: 0.9725\n",
      "Epoch 50/100\n",
      "50/50 [==============================] - 0s 698us/step - loss: 0.2217 - accuracy: 0.9067 - val_loss: 0.1597 - val_accuracy: 0.9725\n",
      "Epoch 51/100\n",
      "50/50 [==============================] - 0s 742us/step - loss: 0.2059 - accuracy: 0.9280 - val_loss: 0.1682 - val_accuracy: 0.9475\n",
      "Epoch 52/100\n",
      "50/50 [==============================] - 0s 726us/step - loss: 0.2252 - accuracy: 0.9198 - val_loss: 0.1536 - val_accuracy: 0.9775\n",
      "Epoch 53/100\n",
      "50/50 [==============================] - 0s 697us/step - loss: 0.2002 - accuracy: 0.9230 - val_loss: 0.1682 - val_accuracy: 0.9475\n",
      "Epoch 54/100\n",
      "50/50 [==============================] - 0s 737us/step - loss: 0.2398 - accuracy: 0.9111 - val_loss: 0.1527 - val_accuracy: 0.9750\n",
      "Epoch 55/100\n",
      "50/50 [==============================] - 0s 772us/step - loss: 0.2014 - accuracy: 0.9142 - val_loss: 0.1988 - val_accuracy: 0.9375\n",
      "Epoch 56/100\n",
      "50/50 [==============================] - 0s 769us/step - loss: 0.2340 - accuracy: 0.9230 - val_loss: 0.1845 - val_accuracy: 0.9550\n",
      "Epoch 57/100\n",
      "50/50 [==============================] - 0s 867us/step - loss: 0.2168 - accuracy: 0.9092 - val_loss: 0.1730 - val_accuracy: 0.9525\n",
      "Epoch 58/100\n",
      "50/50 [==============================] - 0s 779us/step - loss: 0.1972 - accuracy: 0.9217 - val_loss: 0.1603 - val_accuracy: 0.9825\n",
      "Epoch 59/100\n",
      "50/50 [==============================] - 0s 675us/step - loss: 0.1950 - accuracy: 0.9236 - val_loss: 0.1735 - val_accuracy: 0.9500\n",
      "Epoch 60/100\n",
      "50/50 [==============================] - 0s 679us/step - loss: 0.1930 - accuracy: 0.9267 - val_loss: 0.1570 - val_accuracy: 0.9525\n",
      "Epoch 61/100\n",
      "50/50 [==============================] - 0s 671us/step - loss: 0.1947 - accuracy: 0.9299 - val_loss: 0.1691 - val_accuracy: 0.9600\n",
      "Epoch 62/100\n",
      "50/50 [==============================] - 0s 733us/step - loss: 0.2251 - accuracy: 0.9086 - val_loss: 0.1847 - val_accuracy: 0.9600\n",
      "Epoch 63/100\n",
      "50/50 [==============================] - 0s 725us/step - loss: 0.2368 - accuracy: 0.9105 - val_loss: 0.1572 - val_accuracy: 0.9625\n",
      "Epoch 64/100\n",
      "50/50 [==============================] - 0s 662us/step - loss: 0.2018 - accuracy: 0.9343 - val_loss: 0.1631 - val_accuracy: 0.9700\n",
      "Epoch 65/100\n",
      "50/50 [==============================] - 0s 654us/step - loss: 0.1694 - accuracy: 0.9311 - val_loss: 0.1540 - val_accuracy: 0.9525\n",
      "Epoch 66/100\n",
      "50/50 [==============================] - 0s 694us/step - loss: 0.2104 - accuracy: 0.9198 - val_loss: 0.1967 - val_accuracy: 0.9450\n",
      "Epoch 67/100\n",
      "50/50 [==============================] - 0s 623us/step - loss: 0.2045 - accuracy: 0.9192 - val_loss: 0.1669 - val_accuracy: 0.9750\n",
      "Epoch 68/100\n",
      "50/50 [==============================] - 0s 617us/step - loss: 0.2070 - accuracy: 0.9167 - val_loss: 0.1712 - val_accuracy: 0.9675\n",
      "Epoch 69/100\n",
      "50/50 [==============================] - 0s 603us/step - loss: 0.2151 - accuracy: 0.9186 - val_loss: 0.1657 - val_accuracy: 0.9525\n",
      "Epoch 70/100\n",
      "50/50 [==============================] - 0s 604us/step - loss: 0.1935 - accuracy: 0.9336 - val_loss: 0.1474 - val_accuracy: 0.9700\n",
      "Epoch 71/100\n",
      "50/50 [==============================] - 0s 614us/step - loss: 0.1886 - accuracy: 0.9280 - val_loss: 0.1485 - val_accuracy: 0.9625\n",
      "Epoch 72/100\n",
      "50/50 [==============================] - 0s 609us/step - loss: 0.1523 - accuracy: 0.9393 - val_loss: 0.1529 - val_accuracy: 0.9800\n",
      "Epoch 73/100\n",
      "50/50 [==============================] - 0s 606us/step - loss: 0.1776 - accuracy: 0.9349 - val_loss: 0.1739 - val_accuracy: 0.9550\n",
      "Epoch 74/100\n",
      "50/50 [==============================] - 0s 626us/step - loss: 0.2066 - accuracy: 0.9173 - val_loss: 0.1617 - val_accuracy: 0.9650\n",
      "Epoch 75/100\n",
      "50/50 [==============================] - 0s 657us/step - loss: 0.1819 - accuracy: 0.9305 - val_loss: 0.1422 - val_accuracy: 0.9750\n",
      "Epoch 76/100\n",
      "50/50 [==============================] - 0s 611us/step - loss: 0.1818 - accuracy: 0.9349 - val_loss: 0.1989 - val_accuracy: 0.9425\n",
      "Epoch 77/100\n",
      "50/50 [==============================] - 0s 615us/step - loss: 0.1852 - accuracy: 0.9361 - val_loss: 0.1566 - val_accuracy: 0.9650\n",
      "Epoch 78/100\n",
      "50/50 [==============================] - 0s 615us/step - loss: 0.1846 - accuracy: 0.9405 - val_loss: 0.1500 - val_accuracy: 0.9800\n",
      "Epoch 79/100\n",
      "50/50 [==============================] - 0s 606us/step - loss: 0.1973 - accuracy: 0.9261 - val_loss: 0.1478 - val_accuracy: 0.9750\n",
      "Epoch 80/100\n",
      "50/50 [==============================] - 0s 607us/step - loss: 0.1924 - accuracy: 0.9305 - val_loss: 0.1747 - val_accuracy: 0.9775\n",
      "Epoch 81/100\n",
      "50/50 [==============================] - 0s 610us/step - loss: 0.2120 - accuracy: 0.9236 - val_loss: 0.1571 - val_accuracy: 0.9550\n",
      "Epoch 82/100\n",
      "50/50 [==============================] - 0s 613us/step - loss: 0.1784 - accuracy: 0.9305 - val_loss: 0.1430 - val_accuracy: 0.9850\n",
      "Epoch 83/100\n",
      "50/50 [==============================] - 0s 616us/step - loss: 0.1964 - accuracy: 0.9324 - val_loss: 0.1552 - val_accuracy: 0.9775\n",
      "Epoch 84/100\n",
      "50/50 [==============================] - 0s 622us/step - loss: 0.1947 - accuracy: 0.9224 - val_loss: 0.2073 - val_accuracy: 0.9275\n",
      "Epoch 85/100\n",
      "50/50 [==============================] - 0s 730us/step - loss: 0.1910 - accuracy: 0.9267 - val_loss: 0.1949 - val_accuracy: 0.9425\n",
      "Epoch 86/100\n",
      "50/50 [==============================] - 0s 755us/step - loss: 0.1869 - accuracy: 0.9355 - val_loss: 0.1322 - val_accuracy: 0.9825\n",
      "Epoch 87/100\n",
      "50/50 [==============================] - 0s 778us/step - loss: 0.1826 - accuracy: 0.9343 - val_loss: 0.1597 - val_accuracy: 0.9650\n",
      "Epoch 88/100\n",
      "50/50 [==============================] - 0s 743us/step - loss: 0.1578 - accuracy: 0.9411 - val_loss: 0.1556 - val_accuracy: 0.9625\n",
      "Epoch 89/100\n",
      "50/50 [==============================] - 0s 734us/step - loss: 0.2084 - accuracy: 0.9142 - val_loss: 0.1884 - val_accuracy: 0.9500\n",
      "Epoch 90/100\n",
      "50/50 [==============================] - 0s 775us/step - loss: 0.1912 - accuracy: 0.9292 - val_loss: 0.1567 - val_accuracy: 0.9625\n",
      "Epoch 91/100\n",
      "50/50 [==============================] - 0s 892us/step - loss: 0.1939 - accuracy: 0.9311 - val_loss: 0.1324 - val_accuracy: 0.9800\n",
      "Epoch 92/100\n",
      "50/50 [==============================] - 0s 798us/step - loss: 0.1856 - accuracy: 0.9261 - val_loss: 0.1605 - val_accuracy: 0.9625\n",
      "Epoch 93/100\n",
      "50/50 [==============================] - 0s 880us/step - loss: 0.1896 - accuracy: 0.9236 - val_loss: 0.1624 - val_accuracy: 0.9825\n",
      "Epoch 94/100\n",
      "50/50 [==============================] - 0s 791us/step - loss: 0.1736 - accuracy: 0.9330 - val_loss: 0.1678 - val_accuracy: 0.9750\n",
      "Epoch 95/100\n",
      "50/50 [==============================] - 0s 640us/step - loss: 0.1762 - accuracy: 0.9343 - val_loss: 0.1864 - val_accuracy: 0.9700\n",
      "Epoch 96/100\n",
      "50/50 [==============================] - 0s 713us/step - loss: 0.1532 - accuracy: 0.9430 - val_loss: 0.1517 - val_accuracy: 0.9750\n",
      "Epoch 97/100\n",
      "50/50 [==============================] - 0s 614us/step - loss: 0.1649 - accuracy: 0.9355 - val_loss: 0.1528 - val_accuracy: 0.9500\n",
      "Epoch 98/100\n",
      "50/50 [==============================] - 0s 614us/step - loss: 0.1799 - accuracy: 0.9274 - val_loss: 0.1608 - val_accuracy: 0.9850\n",
      "Epoch 99/100\n",
      "50/50 [==============================] - 0s 624us/step - loss: 0.1584 - accuracy: 0.9355 - val_loss: 0.1566 - val_accuracy: 0.9700\n",
      "Epoch 100/100\n",
      "50/50 [==============================] - 0s 629us/step - loss: 0.1868 - accuracy: 0.9311 - val_loss: 0.1874 - val_accuracy: 0.9425\n"
     ]
    },
    {
     "name": "stderr",
     "output_type": "stream",
     "text": [
      "2023/03/12 06:24:57 WARNING mlflow.tensorflow: Failed to infer model signature: could not sample data to infer model signature: tuple index out of range\n",
      "2023/03/12 06:24:57 WARNING mlflow.tensorflow: You are saving a TensorFlow Core model or Keras model without a signature. Inference with mlflow.pyfunc.spark_udf() will not work unless the model's pyfunc representation accepts pandas DataFrames as inference inputs.\n",
      "WARNING:absl:Found untraced functions such as _update_step_xla while saving (showing 1 of 1). These functions will not be directly callable after loading.\n"
     ]
    },
    {
     "name": "stdout",
     "output_type": "stream",
     "text": [
      "INFO:tensorflow:Assets written to: /tmp/tmpgrz_glyg/model/data/model/assets\n"
     ]
    },
    {
     "name": "stderr",
     "output_type": "stream",
     "text": [
      "INFO:tensorflow:Assets written to: /tmp/tmpgrz_glyg/model/data/model/assets\n",
      "2023/03/12 06:24:59 WARNING mlflow.utils.autologging_utils: MLflow autologging encountered a warning: \"/home/binf009/anaconda3/envs/PoseDetectorDLCLive_Training/lib/python3.8/site-packages/_distutils_hack/__init__.py:33: UserWarning: Setuptools is replacing distutils.\"\n"
     ]
    },
    {
     "data": {
      "text/plain": "<keras.callbacks.History at 0x7f1eeca5fb80>"
     },
     "execution_count": 8,
     "metadata": {},
     "output_type": "execute_result"
    }
   ],
   "source": [
    "model.fit(x=train_features, y=train_labels_encoded,\n",
    "          validation_split=0.2,\n",
    "          epochs=100)"
   ],
   "metadata": {
    "collapsed": false
   }
  },
  {
   "cell_type": "code",
   "execution_count": 9,
   "outputs": [],
   "source": [
    "# TODO extract to function\n",
    "testDataFile = \"test.data\"\n",
    "testData = pd.read_csv(testDataFile, sep=\"\\t\", header=0)\n",
    "test_features = testData.copy()\n",
    "test_labels = test_features.pop(test_features.columns[0])  # the first column\n",
    "test_features = np.array(test_features)\n",
    "test_values, test_ids, test_labels_indexed = np.unique(test_labels, return_index=True, return_inverse=True)\n",
    "\n",
    "test_labels_encoded = to_categorical(test_labels_indexed)"
   ],
   "metadata": {
    "collapsed": false
   }
  },
  {
   "cell_type": "code",
   "execution_count": 10,
   "outputs": [
    {
     "name": "stdout",
     "output_type": "stream",
     "text": [
      "16/16 [==============================] - 0s 584us/step - loss: 0.1506 - accuracy: 0.9379\n"
     ]
    },
    {
     "data": {
      "text/plain": "[0.1506328284740448, 0.9378757476806641]"
     },
     "execution_count": 10,
     "metadata": {},
     "output_type": "execute_result"
    }
   ],
   "source": [
    "model.evaluate(test_features, test_labels_encoded)"
   ],
   "metadata": {
    "collapsed": false
   }
  },
  {
   "cell_type": "code",
   "execution_count": 12,
   "outputs": [
    {
     "name": "stdout",
     "output_type": "stream",
     "text": [
      "Unknown\t- Stand: 8.62798401612963e-08 Sit: 0.0005128846969455481 Down: 0.0017513869097456336 Unknown: 0.9977356195449829\n",
      "Down\t- Stand: 0.0022722184658050537 Sit: 2.019942080266901e-08 Down: 0.9695284366607666 Unknown: 0.02819937653839588\n",
      "Stand\t- Stand: 0.9910507202148438 Sit: 6.5738590819819365e-06 Down: 1.0985963854182046e-05 Unknown: 0.008931683376431465\n",
      "Stand\t- Stand: 0.8711495995521545 Sit: 0.0008489449392072856 Down: 9.284805742026947e-07 Unknown: 0.12800051271915436\n",
      "Down\t- Stand: 4.167612477345983e-09 Sit: 1.0327091359840779e-07 Down: 0.987862229347229 Unknown: 0.012137604877352715\n",
      "Down\t- Stand: 4.252246734257462e-25 Sit: 3.5408360453774084e-29 Down: 1.0 Unknown: 2.1871350952551438e-08\n",
      "Unknown\t- Stand: 0.7155418992042542 Sit: 5.3770500016980805e-06 Down: 3.971677529079898e-07 Unknown: 0.28445228934288025\n",
      "Down\t- Stand: 0.00016875778965186328 Sit: 1.8438535676068568e-07 Down: 0.9914650321006775 Unknown: 0.008366020396351814\n",
      "Unknown\t- Stand: 1.5187303006314323e-06 Sit: 4.110483065034032e-09 Down: 0.38657239079475403 Unknown: 0.6134260296821594\n",
      "Sit\t- Stand: 3.680872032418847e-05 Sit: 0.9950646758079529 Down: 2.1677395125152543e-05 Unknown: 0.004876817110925913\n"
     ]
    }
   ],
   "source": [
    "for i in range(10):\n",
    "    down, sit, stand, unknown  = model.predict(np.array([test_features[i]]), verbose=0)[0]\n",
    "    print(f\"{test_labels[i]}\\t- Stand: {stand} Sit: {sit} Down: {down} Unknown: {unknown}\")"
   ],
   "metadata": {
    "collapsed": false
   }
  },
  {
   "cell_type": "code",
   "execution_count": 13,
   "outputs": [
    {
     "name": "stderr",
     "output_type": "stream",
     "text": [
      "WARNING:absl:Found untraced functions such as _update_step_xla while saving (showing 1 of 1). These functions will not be directly callable after loading.\n"
     ]
    },
    {
     "name": "stdout",
     "output_type": "stream",
     "text": [
      "INFO:tensorflow:Assets written to: /home/binf009/projects/PoseDetector/DLCLive/Training/model/2/assets\n"
     ]
    },
    {
     "name": "stderr",
     "output_type": "stream",
     "text": [
      "INFO:tensorflow:Assets written to: /home/binf009/projects/PoseDetector/DLCLive/Training/model/2/assets\n"
     ]
    }
   ],
   "source": [
    "# Now export the model to use it after the DLC-live prediction\n",
    "# Don't export, use the mlflow id for prediction\n",
    "import os\n",
    "savedModelDir = os.path.join(os.getcwd(), \"model/2/\")\n",
    "tf.keras.models.save_model(model, savedModelDir)"
   ],
   "metadata": {
    "collapsed": false
   }
  },
  {
   "cell_type": "code",
   "execution_count": 16,
   "outputs": [
    {
     "name": "stderr",
     "output_type": "stream",
     "text": [
      "2023/03/12 11:25:52 WARNING mlflow.tensorflow: You are saving a TensorFlow Core model or Keras model without a signature. Inference with mlflow.pyfunc.spark_udf() will not work unless the model's pyfunc representation accepts pandas DataFrames as inference inputs.\n",
      "WARNING:absl:Found untraced functions such as _update_step_xla while saving (showing 1 of 1). These functions will not be directly callable after loading.\n"
     ]
    },
    {
     "name": "stdout",
     "output_type": "stream",
     "text": [
      "INFO:tensorflow:Assets written to: /tmp/tmprrig4b96/model/data/model/assets\n"
     ]
    },
    {
     "name": "stderr",
     "output_type": "stream",
     "text": [
      "INFO:tensorflow:Assets written to: /tmp/tmprrig4b96/model/data/model/assets\n",
      "Registered model 'PoseClassification' already exists. Creating a new version of this model...\n",
      "2023/03/12 11:25:54 INFO mlflow.tracking._model_registry.client: Waiting up to 300 seconds for model version to finish creation.                     Model name: PoseClassification, version 1\n",
      "Created version '1' of model 'PoseClassification'.\n"
     ]
    },
    {
     "data": {
      "text/plain": "<mlflow.models.model.ModelInfo at 0x7f1c980f3940>"
     },
     "execution_count": 16,
     "metadata": {},
     "output_type": "execute_result"
    }
   ],
   "source": [
    "# adding model from local path does not work in ui\n",
    "# until fixed, store model via api\n",
    "mlflow.keras.log_model(\n",
    "    model=model,\n",
    "    artifact_path=\"keras-model\",\n",
    "    registered_model_name=\"PoseClassification\"\n",
    ")"
   ],
   "metadata": {
    "collapsed": false
   }
  },
  {
   "cell_type": "code",
   "execution_count": null,
   "outputs": [],
   "source": [],
   "metadata": {
    "collapsed": false
   }
  }
 ],
 "metadata": {
  "kernelspec": {
   "display_name": "Python 3",
   "language": "python",
   "name": "python3"
  },
  "language_info": {
   "codemirror_mode": {
    "name": "ipython",
    "version": 2
   },
   "file_extension": ".py",
   "mimetype": "text/x-python",
   "name": "python",
   "nbconvert_exporter": "python",
   "pygments_lexer": "ipython2",
   "version": "2.7.6"
  }
 },
 "nbformat": 4,
 "nbformat_minor": 0
}
