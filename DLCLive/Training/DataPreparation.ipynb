{
 "cells": [
  {
   "cell_type": "code",
   "execution_count": 80,
   "metadata": {
    "collapsed": true
   },
   "outputs": [],
   "source": [
    "import os\n",
    "import yaml\n",
    "import random\n",
    "from dvc.api import DVCFileSystem\n",
    "\n",
    "annotation_file = \"annotations.yaml\"\n",
    "\n",
    "def build_directory_structure(annotation_dict):\n",
    "    types = {}\n",
    "    for annotation_list in annotation_dict.values():\n",
    "        for entry in annotation_list:\n",
    "            types[entry[\"type\"]] = 1\n",
    "    for type in types:\n",
    "        test_dir = f\"data/test/{type}\"\n",
    "        train_dir = f\"data/train/{type}\"\n",
    "        if not os.path.exists(test_dir):\n",
    "            os.makedirs(test_dir)\n",
    "        if not os.path.exists(train_dir):\n",
    "            os.makedirs(train_dir)\n",
    "\n",
    "def frame_to_annotation(annotation_list):\n",
    "    frame2annot = {}\n",
    "    for annotation in annotation_list:\n",
    "        for i in range(annotation[\"start\"], annotation[\"end\"] + 1): #range stop exclusive\n",
    "            frame2annot[str(i)] = annotation[\"position\"]\n",
    "    return frame2annot"
   ]
  },
  {
   "cell_type": "code",
   "execution_count": 81,
   "outputs": [],
   "source": [
    "with open(annotation_file, 'r') as file:\n",
    "    annotations = yaml.safe_load(file)\n",
    "data_version = annotations[\"data_version\"]\n",
    "dvc_fs = DVCFileSystem(\"..\", rev = data_version)\n",
    "dvc_file_list = dvc_fs.find(\"/DLCModel/videos/\", detail=False, dvc_only=True)"
   ],
   "metadata": {
    "collapsed": false
   }
  },
  {
   "cell_type": "code",
   "execution_count": 84,
   "outputs": [
    {
     "name": "stdout",
     "output_type": "stream",
     "text": [
      "Processing testDogVideo_raw\n",
      "Processing testDogVideo_raw02100840\n"
     ]
    }
   ],
   "source": [
    "all_data = []\n",
    "for video in annotations[\"videos\"]:\n",
    "    frame_annotations = frame_to_annotation(video[\"annotations\"])\n",
    "    # find the csv file in dvc_fs\n",
    "    base_name = video['file'].replace(\".avi\",\"\")\n",
    "    print(f\"Processing {base_name}\")\n",
    "    base_name = base_name + \"DLC\"\n",
    "    csv_files = [x for x in dvc_file_list if (base_name in x and x.endswith(\".csv\"))]\n",
    "    if len(csv_files) == 0:\n",
    "        print(f\"No annotation for {video}\")\n",
    "        next(video)\n",
    "    with dvc_fs.open(csv_files[0], \"r\") as fh:\n",
    "        for _ in range(3): # skip three headers lines\n",
    "            next(fh)\n",
    "        for line in fh:\n",
    "            line = line.rstrip(\"\\n\")\n",
    "            frame, *posValues = line.split(\",\")\n",
    "            if frame in frame_annotations:\n",
    "                current_data = [frame_annotations[frame]] + posValues\n",
    "                all_data.append(current_data)"
   ],
   "metadata": {
    "collapsed": false
   }
  },
  {
   "cell_type": "code",
   "execution_count": 85,
   "outputs": [
    {
     "name": "stdout",
     "output_type": "stream",
     "text": [
      "2498 data sets, using 1998 for training\n"
     ]
    }
   ],
   "source": [
    "testFraction = 0.2 # 20 % of all data reserved for testing\n",
    "random.shuffle(all_data)\n",
    "indexPosition = int(len(all_data) * (1 - testFraction))\n",
    "print(f\"{len(all_data)} data sets, using {indexPosition} for training\")\n",
    "trainData, testData = (all_data[0:indexPosition], all_data[indexPosition:])"
   ],
   "metadata": {
    "collapsed": false
   }
  },
  {
   "cell_type": "code",
   "execution_count": 86,
   "outputs": [],
   "source": [
    "trainFile = \"train.data\"\n",
    "testFile = \"test.data\"\n",
    "\n",
    "def writeData(filename, data):\n",
    "    with open(filename, \"w\") as fh:\n",
    "        for entry in data :\n",
    "            fh.write(\"\\t\".join(entry) + \"\\n\")\n",
    "\n",
    "writeData(trainFile, trainData)\n",
    "writeData(testFile, testData)"
   ],
   "metadata": {
    "collapsed": false
   }
  },
  {
   "cell_type": "code",
   "execution_count": null,
   "outputs": [],
   "source": [],
   "metadata": {
    "collapsed": false
   }
  }
 ],
 "metadata": {
  "kernelspec": {
   "display_name": "Python 3",
   "language": "python",
   "name": "python3"
  },
  "language_info": {
   "codemirror_mode": {
    "name": "ipython",
    "version": 2
   },
   "file_extension": ".py",
   "mimetype": "text/x-python",
   "name": "python",
   "nbconvert_exporter": "python",
   "pygments_lexer": "ipython2",
   "version": "2.7.6"
  }
 },
 "nbformat": 4,
 "nbformat_minor": 0
}
